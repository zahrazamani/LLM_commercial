{
 "cells": [
  {
   "cell_type": "code",
   "execution_count": 1,
   "id": "c44c5494-950d-4d2f-8d4f-b87b57c5b330",
   "metadata": {},
   "outputs": [],
   "source": [
    "# imports\n",
    "\n",
    "import os\n",
    "import requests\n",
    "from bs4 import BeautifulSoup\n",
    "from typing import List\n",
    "from dotenv import load_dotenv\n",
    "from openai import OpenAI\n",
    "import google.generativeai\n",
    "import anthropic"
   ]
  },
  {
   "cell_type": "code",
   "execution_count": 2,
   "id": "d1715421-cead-400b-99af-986388a97aff",
   "metadata": {},
   "outputs": [],
   "source": [
    "import gradio as gr # oh yeah!"
   ]
  },
  {
   "cell_type": "code",
   "execution_count": 3,
   "id": "337d5dfc-0181-4e3b-8ab9-e78e0c3f657b",
   "metadata": {},
   "outputs": [
    {
     "name": "stdout",
     "output_type": "stream",
     "text": [
      "OpenAI API Key exists and begins sk-proj-\n",
      "Anthropic API Key exists and begins sk-ant-\n",
      "Google API Key exists and begins AIzaSyBb\n"
     ]
    }
   ],
   "source": [
    "# Load environment variables in a file called .env\n",
    "# Print the key prefixes to help with any debugging\n",
    "\n",
    "load_dotenv(override=True)\n",
    "openai_api_key = os.getenv('OPENAI_API_KEY')\n",
    "anthropic_api_key = os.getenv('ANTHROPIC_API_KEY')\n",
    "google_api_key = os.getenv('GOOGLE_API_KEY')\n",
    "\n",
    "if openai_api_key:\n",
    "    print(f\"OpenAI API Key exists and begins {openai_api_key[:8]}\")\n",
    "else:\n",
    "    print(\"OpenAI API Key not set\")\n",
    "    \n",
    "if anthropic_api_key:\n",
    "    print(f\"Anthropic API Key exists and begins {anthropic_api_key[:7]}\")\n",
    "else:\n",
    "    print(\"Anthropic API Key not set\")\n",
    "\n",
    "if google_api_key:\n",
    "    print(f\"Google API Key exists and begins {google_api_key[:8]}\")\n",
    "else:\n",
    "    print(\"Google API Key not set\")"
   ]
  },
  {
   "cell_type": "code",
   "execution_count": 4,
   "id": "22586021-1795-4929-8079-63f5bb4edd4c",
   "metadata": {},
   "outputs": [],
   "source": [
    "# Connect to OpenAI, Anthropic and Google; comment out the Claude or Google lines if you're not using them\n",
    "\n",
    "openai = OpenAI()\n",
    "\n",
    "claude = anthropic.Anthropic()\n",
    "\n",
    "google.generativeai.configure()"
   ]
  },
  {
   "cell_type": "code",
   "execution_count": 31,
   "id": "b16e6021-6dc4-4397-985a-6679d6c8ffd5",
   "metadata": {},
   "outputs": [],
   "source": [
    "# A generic system message - no more snarky adversarial AIs!\n",
    "\n",
    "system_message = \"You are a search assistant that takes the user input prompt as the main topic of search for the top 10 companies that work on this topic.Also keep the URL of these 10 companies in a list called company_list that I can use for further analysis. \""
   ]
  },
  {
   "cell_type": "code",
   "execution_count": 32,
   "id": "02ef9b69-ef31-427d-86d0-b8c799e1c1b1",
   "metadata": {},
   "outputs": [],
   "source": [
    "# Let's wrap a call to GPT-4o-mini in a simple function\n",
    "\n",
    "def message_gpt(prompt):\n",
    "    messages = [\n",
    "        {\"role\": \"system\", \"content\": system_message},\n",
    "        {\"role\": \"user\", \"content\": prompt}\n",
    "      ]\n",
    "    completion = openai.chat.completions.create(\n",
    "        model='gpt-4o-mini',\n",
    "        messages=messages,\n",
    "    )\n",
    "    return completion.choices[0].message.content"
   ]
  },
  {
   "cell_type": "code",
   "execution_count": 33,
   "id": "aef7d314-2b13-436b-b02d-8de3b72b193f",
   "metadata": {},
   "outputs": [
    {
     "data": {
      "text/plain": [
       "\"Today's date is April 27, 2024.\""
      ]
     },
     "execution_count": 33,
     "metadata": {},
     "output_type": "execute_result"
    }
   ],
   "source": [
    "# This can reveal the \"training cut off\", or the most recent date in the training data\n",
    "\n",
    "message_gpt(\"What is today's date?\")"
   ]
  },
  {
   "cell_type": "code",
   "execution_count": 34,
   "id": "88c04ebf-0671-4fea-95c9-bc1565d4bb4f",
   "metadata": {},
   "outputs": [],
   "source": [
    "# Let's create a call that streams back results\n",
    "# If you'd like a refresher on Generators (the \"yield\" keyword),\n",
    "# Please take a look at the Intermediate Python notebook in week1 folder.\n",
    "\n",
    "def stream_gpt(prompt):\n",
    "    messages = [\n",
    "        {\"role\": \"system\", \"content\": system_message},\n",
    "        {\"role\": \"user\", \"content\": prompt}\n",
    "      ]\n",
    "    stream = openai.chat.completions.create(\n",
    "        model='gpt-4o-mini',\n",
    "        messages=messages,\n",
    "        stream=True\n",
    "    )\n",
    "    result = \"\"\n",
    "    for chunk in stream:\n",
    "        result += chunk.choices[0].delta.content or \"\"\n",
    "        yield result"
   ]
  },
  {
   "cell_type": "code",
   "execution_count": 35,
   "id": "0bb1f789-ff11-4cba-ac67-11b815e29d09",
   "metadata": {},
   "outputs": [
    {
     "name": "stdout",
     "output_type": "stream",
     "text": [
      "* Running on local URL:  http://127.0.0.1:7877\n",
      "\n",
      "To create a public link, set `share=True` in `launch()`.\n"
     ]
    },
    {
     "data": {
      "text/html": [
       "<div><iframe src=\"http://127.0.0.1:7877/\" width=\"100%\" height=\"500\" allow=\"autoplay; camera; microphone; clipboard-read; clipboard-write;\" frameborder=\"0\" allowfullscreen></iframe></div>"
      ],
      "text/plain": [
       "<IPython.core.display.HTML object>"
      ]
     },
     "metadata": {},
     "output_type": "display_data"
    },
    {
     "data": {
      "text/plain": []
     },
     "execution_count": 35,
     "metadata": {},
     "output_type": "execute_result"
    }
   ],
   "source": [
    "view = gr.Interface(\n",
    "    fn=stream_gpt,\n",
    "    inputs=[gr.Textbox(label=\"Your message:\")],\n",
    "    outputs=[gr.Markdown(label=\"Response:\")],\n",
    "    flagging_mode=\"never\"\n",
    ")\n",
    "view.launch()"
   ]
  },
  {
   "cell_type": "code",
   "execution_count": 36,
   "id": "bbc8e930-ba2a-4194-8f7c-044659150626",
   "metadata": {},
   "outputs": [],
   "source": [
    "def stream_claude(prompt):\n",
    "    result = claude.messages.stream(\n",
    "        model=\"claude-3-haiku-20240307\",\n",
    "        max_tokens=1000,\n",
    "        temperature=0.7,\n",
    "        system=system_message,\n",
    "        messages=[\n",
    "            {\"role\": \"user\", \"content\": prompt},\n",
    "        ],\n",
    "    )\n",
    "    response = \"\"\n",
    "    with result as stream:\n",
    "        for text in stream.text_stream:\n",
    "            response += text or \"\"\n",
    "            yield response"
   ]
  },
  {
   "cell_type": "code",
   "execution_count": 37,
   "id": "a0066ffd-196e-4eaf-ad1e-d492958b62af",
   "metadata": {},
   "outputs": [
    {
     "name": "stdout",
     "output_type": "stream",
     "text": [
      "* Running on local URL:  http://127.0.0.1:7878\n",
      "\n",
      "To create a public link, set `share=True` in `launch()`.\n"
     ]
    },
    {
     "data": {
      "text/html": [
       "<div><iframe src=\"http://127.0.0.1:7878/\" width=\"100%\" height=\"500\" allow=\"autoplay; camera; microphone; clipboard-read; clipboard-write;\" frameborder=\"0\" allowfullscreen></iframe></div>"
      ],
      "text/plain": [
       "<IPython.core.display.HTML object>"
      ]
     },
     "metadata": {},
     "output_type": "display_data"
    },
    {
     "data": {
      "text/plain": []
     },
     "execution_count": 37,
     "metadata": {},
     "output_type": "execute_result"
    }
   ],
   "source": [
    "view = gr.Interface(\n",
    "    fn=stream_claude,\n",
    "    inputs=[gr.Textbox(label=\"Your message:\")],\n",
    "    outputs=[gr.Markdown(label=\"Response:\")],\n",
    "    flagging_mode=\"never\"\n",
    ")\n",
    "view.launch()"
   ]
  },
  {
   "cell_type": "code",
   "execution_count": 38,
   "id": "0087623a-4e31-470b-b2e6-d8d16fc7bcf5",
   "metadata": {},
   "outputs": [],
   "source": [
    "def stream_model(prompt, model):\n",
    "    if model==\"GPT\":\n",
    "        result = stream_gpt(prompt)\n",
    "    elif model==\"Claude\":\n",
    "        result = stream_claude(prompt)\n",
    "    else:\n",
    "        raise ValueError(\"Unknown model\")\n",
    "    yield from result"
   ]
  },
  {
   "cell_type": "code",
   "execution_count": 39,
   "id": "8d8ce810-997c-4b6a-bc4f-1fc847ac8855",
   "metadata": {},
   "outputs": [
    {
     "name": "stdout",
     "output_type": "stream",
     "text": [
      "* Running on local URL:  http://127.0.0.1:7879\n",
      "\n",
      "To create a public link, set `share=True` in `launch()`.\n"
     ]
    },
    {
     "data": {
      "text/html": [
       "<div><iframe src=\"http://127.0.0.1:7879/\" width=\"100%\" height=\"500\" allow=\"autoplay; camera; microphone; clipboard-read; clipboard-write;\" frameborder=\"0\" allowfullscreen></iframe></div>"
      ],
      "text/plain": [
       "<IPython.core.display.HTML object>"
      ]
     },
     "metadata": {},
     "output_type": "display_data"
    },
    {
     "data": {
      "text/plain": []
     },
     "execution_count": 39,
     "metadata": {},
     "output_type": "execute_result"
    }
   ],
   "source": [
    "view = gr.Interface(\n",
    "    fn=stream_model,\n",
    "    inputs=[gr.Textbox(label=\"What types of companies are you interested in:\"), gr.Dropdown([\"GPT\", \"Claude\"], label=\"Select model\", value=\"GPT\")],\n",
    "    outputs=[gr.Markdown(label=\"Response:\")],\n",
    "    flagging_mode=\"never\"\n",
    ")\n",
    "view.launch()"
   ]
  },
  {
   "cell_type": "code",
   "execution_count": null,
   "id": "147ccdf7-4508-4c69-ba2e-2eab6ddd0024",
   "metadata": {},
   "outputs": [],
   "source": []
  },
  {
   "cell_type": "markdown",
   "id": "d933865b-654c-4b92-aa45-cf389f1eda3d",
   "metadata": {},
   "source": [
    "# Building a company brochure generator\n",
    "\n",
    "Now you know how - it's simple!"
   ]
  },
  {
   "cell_type": "code",
   "execution_count": null,
   "id": "4fe528c9-cbda-45fc-9065-1e18c34180d6",
   "metadata": {},
   "outputs": [],
   "source": []
  },
  {
   "cell_type": "markdown",
   "id": "92d7c49b-2e0e-45b3-92ce-93ca9f962ef4",
   "metadata": {},
   "source": [
    "<table style=\"margin: 0; text-align: left;\">\n",
    "    <tr>\n",
    "        <td style=\"width: 150px; height: 150px; vertical-align: middle;\">\n",
    "            <img src=\"../important.jpg\" width=\"150\" height=\"150\" style=\"display: block;\" />\n",
    "        </td>\n",
    "        <td>\n",
    "            <h2 style=\"color:#900;\">Before you read the next few cells</h2>\n",
    "            <span style=\"color:#900;\">\n",
    "                Try to do this yourself - go back to the company brochure in week1, day5 and add a Gradio UI to the end. Then come and look at the solution.\n",
    "            </span>\n",
    "        </td>\n",
    "    </tr>\n",
    "</table>"
   ]
  },
  {
   "cell_type": "code",
   "execution_count": 41,
   "id": "28e23ce1-28a8-4faf-8ef1-1ae581aaf3e1",
   "metadata": {},
   "outputs": [],
   "source": [
    "company_list = [\n",
    "    \"https://www.alterecofoods.com\",\n",
    "    \"https://www.naturespath.com\",\n",
    "    \"https://www.ancientharvest.com\",\n",
    "    \"http://www.quinoacorp.com\",\n",
    "    \"https://www.bobsredmill.com\",\n",
    "    \"https://www.edenfoods.com\",\n",
    "    \"https://www.quinuacereal.com\",\n",
    "    \"https://www.wholefoodsmarket.com\",\n",
    "    \"https://www.terrasoul.com\",\n",
    "    \"https://www.thebeautifulbrinysea.com\"\n",
    "]"
   ]
  },
  {
   "cell_type": "code",
   "execution_count": 42,
   "id": "1626eb2e-eee8-4183-bda5-1591b58ae3cf",
   "metadata": {},
   "outputs": [],
   "source": [
    "# A class to represent a Webpage\n",
    "\n",
    "class Website:\n",
    "    url: str\n",
    "    title: str\n",
    "    text: str\n",
    "\n",
    "    def __init__(self, url):\n",
    "        self.url = url\n",
    "        response = requests.get(url)\n",
    "        self.body = response.content\n",
    "        soup = BeautifulSoup(self.body, 'html.parser')\n",
    "        self.title = soup.title.string if soup.title else \"No title found\"\n",
    "        for irrelevant in soup.body([\"script\", \"style\", \"img\", \"input\"]):\n",
    "            irrelevant.decompose()\n",
    "        self.text = soup.body.get_text(separator=\"\\n\", strip=True)\n",
    "\n",
    "    def get_contents(self):\n",
    "        return f\"Webpage Title:\\n{self.title}\\nWebpage Contents:\\n{self.text}\\n\\n\""
   ]
  },
  {
   "cell_type": "code",
   "execution_count": null,
   "id": "d3f7f61c-0982-4df1-bfbe-4dfee4c50426",
   "metadata": {},
   "outputs": [],
   "source": []
  },
  {
   "cell_type": "code",
   "execution_count": null,
   "id": "e57b4a65-b1ea-4de6-bebd-bb14e4fe2e6e",
   "metadata": {},
   "outputs": [],
   "source": []
  },
  {
   "cell_type": "code",
   "execution_count": 43,
   "id": "c701ec17-ecd5-4000-9f68-34634c8ed49d",
   "metadata": {},
   "outputs": [],
   "source": [
    "\n",
    "system_message = \"You are an assistant that analyzes the contents of a company website landing page \\\n",
    "and creates a short brochure about the company for prospective customers, investors and recruits. Respond in markdown.\""
   ]
  },
  {
   "cell_type": "code",
   "execution_count": 44,
   "id": "5def90e0-4343-4f58-9d4a-0e36e445efa4",
   "metadata": {},
   "outputs": [],
   "source": [
    "def stream_brochure(company_name, url, model):\n",
    "    prompt = f\"Please generate a company brochure for {company_name}. Here is their landing page:\\n\"\n",
    "    prompt += Website(url).get_contents()\n",
    "    if model==\"GPT\":\n",
    "        result = stream_gpt(prompt)\n",
    "    elif model==\"Claude\":\n",
    "        result = stream_claude(prompt)\n",
    "    else:\n",
    "        raise ValueError(\"Unknown model\")\n",
    "    yield from result"
   ]
  },
  {
   "cell_type": "code",
   "execution_count": 46,
   "id": "66399365-5d67-4984-9d47-93ed26c0bd3d",
   "metadata": {},
   "outputs": [
    {
     "name": "stdout",
     "output_type": "stream",
     "text": [
      "* Running on local URL:  http://127.0.0.1:7881\n",
      "\n",
      "To create a public link, set `share=True` in `launch()`.\n"
     ]
    },
    {
     "data": {
      "text/html": [
       "<div><iframe src=\"http://127.0.0.1:7881/\" width=\"100%\" height=\"500\" allow=\"autoplay; camera; microphone; clipboard-read; clipboard-write;\" frameborder=\"0\" allowfullscreen></iframe></div>"
      ],
      "text/plain": [
       "<IPython.core.display.HTML object>"
      ]
     },
     "metadata": {},
     "output_type": "display_data"
    },
    {
     "data": {
      "text/plain": []
     },
     "execution_count": 46,
     "metadata": {},
     "output_type": "execute_result"
    }
   ],
   "source": [
    "view = gr.Interface(\n",
    "    fn=stream_brochure,\n",
    "    inputs=[\n",
    "        gr.Textbox(label=\"Company name:\"),\n",
    "        gr.Textbox(label=\"Landing page URL including http:// or https://\"),\n",
    "        gr.Dropdown([\"GPT\", \"Claude\"], label=\"Select model\")],\n",
    "    outputs=[gr.Markdown(label=\"Brochure:\")],\n",
    "    flagging_mode=\"never\"\n",
    ")\n",
    "view.launch()"
   ]
  },
  {
   "cell_type": "code",
   "execution_count": null,
   "id": "ede97ca3-a0f8-4f6e-be17-d1de7fef9cc0",
   "metadata": {},
   "outputs": [],
   "source": [
    "\n",
    "    def build_company_profile_prompt(companyName,url):\n",
    "        \"\"\"Build prompt for generating company profile.\"\"\"\n",
    "        prompt = f\"\"\"\n",
    "        Please analyze this company information {companyName}, here is the landing page: {url} and create a detailed company profile:\n",
    "        url\n",
    "        Company Name: {self.company_info.get('name', 'Unknown')}\n",
    "        Tagline: {self.company_info.get('tagline', '')}\n",
    "        Mission: {self.company_info.get('mission', '')}\n",
    "        Vision: {self.company_info.get('vision', '')}\n",
    "        Values: {', '.join(self.company_info.get('values', []))}\n",
    "        Unique Selling Points: {', '.join(self.company_info.get('unique_selling_points', []))}\n",
    "        Founded: {self.company_info.get('founded', '')}\n",
    "        Locations: {', '.join(self.company_info.get('locations', []))}\n",
    "        Products/Services: {', '.join(self.company_info.get('products_services', []))}\n",
    "        Industries Served: {', '.join(self.company_info.get('industries_served', []))}\n",
    "        Key Phrases: {', '.join(self.company_info.get('key_phrases', []))}\n",
    "        \n",
    "        Based on this information, please create:\n",
    "        1. A comprehensive company profile (2-3 paragraphs)\n",
    "        2. A concise value proposition statement\n",
    "        3. Identification of the company's core competencies\n",
    "        4. A summary of the target market and ideal customer profile\n",
    "        \"\"\"\n",
    "        \n",
    "        return prompt\n",
    "        \n",
    "    def build_competitive_analysis_prompt(company_name):\n",
    "        \"\"\"Build prompt for generating competitive analysis.\"\"\"\n",
    "        # Base company info\n",
    "        company_name = self.company_info.get('name', 'Unknown')\n",
    "        \n",
    "        prompt = f\"\"\"\n",
    "        Please generate a comprehensive competitive analysis report for {company_name}.\n",
    "        \n",
    "        COMPANY INFORMATION:\n",
    "        Company Name: {company_name}\n",
    "        Tagline: {self.company_info.get('tagline', '')}\n",
    "        Mission: {self.company_info.get('mission', '')}\n",
    "        Products/Services: {', '.join(self.company_info.get('products_services', []))}\n",
    "        Unique Selling Points: {', '.join(self.company_info.get('unique_selling_points', []))}\n",
    "        Key Phrases: {', '.join(self.company_info.get('key_phrases', []))}\n",
    "        \n",
    "        COMPETITORS:\n",
    "        \"\"\"\n",
    "            \n",
    "        prompt += f\"\"\"\n",
    "        Based on this information, please create a professional competitive analysis report with the following sections:\n",
    "        \n",
    "        1. Executive Summary\n",
    "           - Brief overview of {company_name}'s market position\n",
    "           - Summary of key competitive advantages and challenges\n",
    "        \n",
    "        2. Industry Overview\n",
    "           - Analysis of the current market landscape\n",
    "           - Key industry trends and growth projections\n",
    "           - Regulatory or technological factors affecting the industry\n",
    "        \n",
    "        3. Competitor Profiles\n",
    "           - Detailed analysis of each competitor's strengths and weaknesses\n",
    "           - Comparative assessment of product/service offerings\n",
    "           - Market positioning and target audience analysis\n",
    "        \n",
    "        4. Competitive Advantage Analysis\n",
    "           - {company_name}'s unique value proposition in the marketplace\n",
    "           - Areas where {company_name} outperforms competitors\n",
    "           - Areas where competitors have an edge over {company_name}\n",
    "        \n",
    "        5. SWOT Analysis\n",
    "           - Detailed Strengths, Weaknesses, Opportunities, and Threats analysis for {company_name}\n",
    "           - How these factors compare to key competitors\n",
    "        \n",
    "        6. Market Positioning Map\n",
    "           - Describe how {company_name} and competitors are positioned on key attributes\n",
    "           - Identify potential positioning opportunities in the market\n",
    "        \n",
    "        7. Strategic Recommendations\n",
    "           - Areas where {company_name} should focus to strengthen competitive position\n",
    "           - Potential threats to address and opportunities to pursue\n",
    "           - Short-term and long-term strategic priorities\n",
    "        \n",
    "        Please be specific, data-driven, and insightful in your analysis. Include concrete examples wherever possible.\n",
    "        \"\"\"\n",
    "        \n",
    "        return prompt\n",
    "    \n",
    "    def build_swot_analysis_prompt(self):\n",
    "        \"\"\"Build prompt specifically for SWOT analysis.\"\"\"\n",
    "        company_name = self.company_info.get('name', 'Unknown')\n",
    "        \n",
    "        prompt = f\"\"\"\n",
    "        Please conduct a detailed SWOT (Strengths, Weaknesses, Opportunities, Threats) analysis for {company_name} based on the following information:\n",
    "        \n",
    "        COMPANY INFORMATION:\n",
    "        Company Name: {company_name}\n",
    "        Tagline: {self.company_info.get('tagline', '')}\n",
    "        Mission: {self.company_info.get('mission', '')}\n",
    "        Products/Services: {', '.join(self.company_info.get('products_services', []))}\n",
    "        Unique Selling Points: {', '.join(self.company_info.get('unique_selling_points', []))}\n",
    "        Key Phrases: {', '.join(self.company_info.get('key_phrases', []))}\n",
    "        \n",
    "        COMPETITORS:\n",
    "        \"\"\"\n",
    "        \n",
    "        # Add competitor information\n",
    "        for i, competitor in enumerate(self.competitors_info, 1):\n",
    "            prompt += f\"\"\"\n",
    "            Competitor {i}: {competitor.get('name', f'Competitor {i}')}\n",
    "            URL: {competitor.get('url', '')}\n",
    "            Description: {competitor.get('description', '')}\n",
    "            Products/Services: {', '.join(competitor.get('products_services', []))}\n",
    "            \"\"\"\n",
    "        \n",
    "        prompt += f\"\"\"\n",
    "        For each SWOT category, please provide:\n",
    "        1. A bulleted list of at least 5 factors\n",
    "        2. A brief explanation of each factor's significance\n",
    "        3. A \"Priority Level\" rating (High/Medium/Low) for each factor based on its strategic importance\n",
    "        \n",
    "        For the Strengths and Weaknesses analysis, focus on internal factors like:\n",
    "        - Unique technological capabilities\n",
    "        - Brand reputation and recognition\n",
    "        - Quality of products/services\n",
    "        - Customer service and support\n",
    "        - Financial resources and stability\n",
    "        - Operational efficiency\n",
    "        - Talent and expertise\n",
    "        - Marketing effectiveness\n",
    "        \n",
    "        For the Opportunities and Threats analysis, focus on external factors like:\n",
    "        - Market trends and growth potential\n",
    "        - Technological developments\n",
    "        - Regulatory changes\n",
    "        - Competitive landscape shifts\n",
    "        - Economic factors\n",
    "        - Social/demographic changes\n",
    "        - Emerging markets or customer segments\n",
    "        \n",
    "        Please make the analysis as specific and actionable as possible, avoiding generic statements.\n",
    "        \"\"\"\n",
    "        \n",
    "        return prompt"
   ]
  },
  {
   "cell_type": "code",
   "execution_count": null,
   "id": "9e95d959-a202-46f4-a49f-8b47d853467c",
   "metadata": {},
   "outputs": [],
   "source": []
  },
  {
   "cell_type": "code",
   "execution_count": null,
   "id": "bc996570-5fce-4e52-934f-0ba0defdd9e8",
   "metadata": {},
   "outputs": [],
   "source": []
  },
  {
   "cell_type": "code",
   "execution_count": 53,
   "id": "070a387a-faaf-435b-a6de-34b29c23f9d7",
   "metadata": {},
   "outputs": [],
   "source": [
    " def build_company_profile_prompt(companyName,url,model):\n",
    "        \"\"\"Build prompt for generating company profile.\"\"\"\n",
    "        prompt = f\"\"\"\n",
    "        Please analyze this company information {companyName}, here is the landing page: {url} and create a detailed company profile for each of the following sections:\n",
    "        url\n",
    "        Company Name: \n",
    "        Tagline: \n",
    "        Mission: \n",
    "        Vision: \n",
    "        Values: \n",
    "        Unique Selling Points: \n",
    "        Founded: \n",
    "        Locations: \n",
    "        Products/Services: \n",
    "        Industries Served: \n",
    "        Key Phrases:\n",
    "        \n",
    "        Based on this information, please create:\n",
    "        1. A comprehensive company profile (2-3 paragraphs)\n",
    "        2. A concise value proposition statement\n",
    "        3. Identification of the company's core competencies\n",
    "        4. A summary of the target market and ideal customer profile\n",
    "\n",
    "        Write it all in markdown\n",
    "        \"\"\"\n",
    "\n",
    "        prompt += Website(url).get_contents()\n",
    "        if model==\"GPT\":\n",
    "            result = stream_gpt(prompt)\n",
    "        elif model==\"Claude\":\n",
    "            result = stream_claude(prompt)\n",
    "        else:\n",
    "            raise ValueError(\"Unknown model\")\n",
    "        yield from result"
   ]
  },
  {
   "cell_type": "code",
   "execution_count": 54,
   "id": "be8def80-1190-41f4-bdb9-4a1d13ed1207",
   "metadata": {},
   "outputs": [
    {
     "name": "stdout",
     "output_type": "stream",
     "text": [
      "* Running on local URL:  http://127.0.0.1:7885\n",
      "\n",
      "To create a public link, set `share=True` in `launch()`.\n"
     ]
    },
    {
     "data": {
      "text/html": [
       "<div><iframe src=\"http://127.0.0.1:7885/\" width=\"100%\" height=\"500\" allow=\"autoplay; camera; microphone; clipboard-read; clipboard-write;\" frameborder=\"0\" allowfullscreen></iframe></div>"
      ],
      "text/plain": [
       "<IPython.core.display.HTML object>"
      ]
     },
     "metadata": {},
     "output_type": "display_data"
    },
    {
     "data": {
      "text/plain": []
     },
     "execution_count": 54,
     "metadata": {},
     "output_type": "execute_result"
    }
   ],
   "source": [
    "view = gr.Interface(\n",
    "    fn=build_company_profile_prompt,\n",
    "    inputs=[\n",
    "        gr.Textbox(label=\"Company name:\"),\n",
    "        gr.Textbox(label=\"Landing page URL including http:// or https://\"),\n",
    "        gr.Dropdown([\"GPT\", \"Claude\"], label=\"Select model\")],\n",
    "    outputs=[gr.Markdown(label=\"CompanyInformation:\")],\n",
    "    flagging_mode=\"never\"\n",
    ")\n",
    "view.launch()"
   ]
  },
  {
   "cell_type": "code",
   "execution_count": 63,
   "id": "cfe131ab-b677-436e-9298-bae3774b15e0",
   "metadata": {},
   "outputs": [],
   "source": [
    " def build_competitor_prompt(companyName,model):\n",
    "        \"\"\"Build prompt for generating company profile.\"\"\"\n",
    "        prompt = f\"\"\"\n",
    "        For the given industry mentioned in user prompt {companyName}, take top 10 competitors in this field.         \n",
    "\n",
    "        List each of the 10 competitors with the following information: \n",
    "        Company Name: \n",
    "        Tagline: \n",
    "        Mission: \n",
    "        Products/Services: \n",
    "        Unique Selling Points: \n",
    "        Key Phrases:\n",
    "\n",
    "        I want to create a new company called \"NewCompanyByZahra\"\n",
    "        \n",
    "        Next create a professional competitive analysis report with the following sections:\n",
    "        \n",
    "        1. Executive Summary\n",
    "           - Brief overview of NewCompanyByZahra's market position\n",
    "           - Summary of key competitive advantages and challenges\n",
    "        \n",
    "        2. Industry Overview\n",
    "           - Analysis of the current market landscape\n",
    "           - Key industry trends and growth projections\n",
    "           - Regulatory or technological factors affecting the industry\n",
    "        \n",
    "        3. Competitor Profiles\n",
    "           - Detailed analysis of each competitor's strengths and weaknesses\n",
    "           - Comparative assessment of product/service offerings\n",
    "           - Market positioning and target audience analysis\n",
    "        \n",
    "        4. Competitive Advantage Analysis\n",
    "           - NewCompanyByZahra's unique value proposition in the marketplace\n",
    "           - Areas where NewCompanyByZahra outperforms 10 competitors\n",
    "           - Areas where  10 competitors have an edge over NewCompanyByZahra\n",
    "        \n",
    "        5. SWOT Analysis\n",
    "           - Detailed Strengths, Weaknesses, Opportunities, and Threats analysis for the new company\n",
    "           - How these factors compare to key competitors\n",
    "        \n",
    "        6. Market Positioning Map\n",
    "           - Describe how the 10 competitors are positioned on key attributes\n",
    "           - Identify potential positioning opportunities in the market\n",
    "        \n",
    "        7. Strategic Recommendations\n",
    "           - Areas where NewCompanyByZahra should focus to strengthen competitive position\n",
    "           - Potential threats to address and opportunities to pursue\n",
    "           - Short-term and long-term strategic priorities\n",
    "        \n",
    "        Please be specific, data-driven, and insightful in your analysis. Include concrete examples wherever possible.    \n",
    "\n",
    "        Write it all in markdown\n",
    "        \"\"\"\n",
    "        if model==\"GPT\":\n",
    "            result = stream_gpt(prompt)\n",
    "        elif model==\"Claude\":\n",
    "            result = stream_claude(prompt)\n",
    "        else:\n",
    "            raise ValueError(\"Unknown model\")\n",
    "        yield from result"
   ]
  },
  {
   "cell_type": "code",
   "execution_count": null,
   "id": "44986cfa-380c-460b-bb27-f6307cab8998",
   "metadata": {},
   "outputs": [],
   "source": []
  },
  {
   "cell_type": "code",
   "execution_count": null,
   "id": "f57db190-635e-48be-8eeb-0cb99f83e29e",
   "metadata": {},
   "outputs": [],
   "source": []
  },
  {
   "cell_type": "code",
   "execution_count": null,
   "id": "183f6334-2b5c-4b3a-969a-721119fc96d6",
   "metadata": {},
   "outputs": [],
   "source": []
  },
  {
   "cell_type": "code",
   "execution_count": 60,
   "id": "20ddc60a-4d63-44b8-9ab8-b45eb4913d7d",
   "metadata": {},
   "outputs": [
    {
     "name": "stdout",
     "output_type": "stream",
     "text": [
      "* Running on local URL:  http://127.0.0.1:7886\n",
      "\n",
      "To create a public link, set `share=True` in `launch()`.\n"
     ]
    },
    {
     "data": {
      "text/html": [
       "<div><iframe src=\"http://127.0.0.1:7886/\" width=\"100%\" height=\"500\" allow=\"autoplay; camera; microphone; clipboard-read; clipboard-write;\" frameborder=\"0\" allowfullscreen></iframe></div>"
      ],
      "text/plain": [
       "<IPython.core.display.HTML object>"
      ]
     },
     "metadata": {},
     "output_type": "display_data"
    },
    {
     "data": {
      "text/plain": []
     },
     "execution_count": 60,
     "metadata": {},
     "output_type": "execute_result"
    },
    {
     "name": "stderr",
     "output_type": "stream",
     "text": [
      "Traceback (most recent call last):\n",
      "  File \"/opt/anaconda3/envs/llms/lib/python3.11/site-packages/gradio/queueing.py\", line 625, in process_events\n",
      "    response = await route_utils.call_process_api(\n",
      "               ^^^^^^^^^^^^^^^^^^^^^^^^^^^^^^^^^^^\n",
      "  File \"/opt/anaconda3/envs/llms/lib/python3.11/site-packages/gradio/route_utils.py\", line 322, in call_process_api\n",
      "    output = await app.get_blocks().process_api(\n",
      "             ^^^^^^^^^^^^^^^^^^^^^^^^^^^^^^^^^^^\n",
      "  File \"/opt/anaconda3/envs/llms/lib/python3.11/site-packages/gradio/blocks.py\", line 2136, in process_api\n",
      "    result = await self.call_function(\n",
      "             ^^^^^^^^^^^^^^^^^^^^^^^^^\n",
      "  File \"/opt/anaconda3/envs/llms/lib/python3.11/site-packages/gradio/blocks.py\", line 1674, in call_function\n",
      "    prediction = await utils.async_iteration(iterator)\n",
      "                 ^^^^^^^^^^^^^^^^^^^^^^^^^^^^^^^^^^^^^\n",
      "  File \"/opt/anaconda3/envs/llms/lib/python3.11/site-packages/gradio/utils.py\", line 728, in async_iteration\n",
      "    return await anext(iterator)\n",
      "           ^^^^^^^^^^^^^^^^^^^^^\n",
      "  File \"/opt/anaconda3/envs/llms/lib/python3.11/site-packages/gradio/utils.py\", line 722, in __anext__\n",
      "    return await anyio.to_thread.run_sync(\n",
      "           ^^^^^^^^^^^^^^^^^^^^^^^^^^^^^^^\n",
      "  File \"/opt/anaconda3/envs/llms/lib/python3.11/site-packages/anyio/to_thread.py\", line 56, in run_sync\n",
      "    return await get_async_backend().run_sync_in_worker_thread(\n",
      "           ^^^^^^^^^^^^^^^^^^^^^^^^^^^^^^^^^^^^^^^^^^^^^^^^^^^^\n",
      "  File \"/opt/anaconda3/envs/llms/lib/python3.11/site-packages/anyio/_backends/_asyncio.py\", line 2470, in run_sync_in_worker_thread\n",
      "    return await future\n",
      "           ^^^^^^^^^^^^\n",
      "  File \"/opt/anaconda3/envs/llms/lib/python3.11/site-packages/anyio/_backends/_asyncio.py\", line 967, in run\n",
      "    result = context.run(func, *args)\n",
      "             ^^^^^^^^^^^^^^^^^^^^^^^^\n",
      "  File \"/opt/anaconda3/envs/llms/lib/python3.11/site-packages/gradio/utils.py\", line 705, in run_sync_iterator_async\n",
      "    return next(iterator)\n",
      "           ^^^^^^^^^^^^^^\n",
      "  File \"/opt/anaconda3/envs/llms/lib/python3.11/site-packages/gradio/utils.py\", line 866, in gen_wrapper\n",
      "    response = next(iterator)\n",
      "               ^^^^^^^^^^^^^^\n",
      "  File \"/var/folders/kf/bpj6n1wd62q7qwmvyjsq1gb80000gp/T/ipykernel_33232/1215899152.py\", line 54, in build_competitor_prompt\n",
      "    prompt += Website(url).get_contents()\n",
      "                      ^^^\n",
      "NameError: name 'url' is not defined\n"
     ]
    }
   ],
   "source": [
    "view = gr.Interface(\n",
    "    fn=build_competitor_prompt,\n",
    "    inputs=[\n",
    "        gr.Textbox(label=\"What sort of company do you want to look into:\"),\n",
    "        gr.Dropdown([\"GPT\", \"Claude\"], label=\"Select model\")],\n",
    "    outputs=[gr.Markdown(label=\"Competitor analysis:\")],\n",
    "    flagging_mode=\"never\"\n",
    ")\n",
    "view.launch()"
   ]
  },
  {
   "cell_type": "code",
   "execution_count": null,
   "id": "c1488e45-f591-406b-95aa-2e6639c81abb",
   "metadata": {},
   "outputs": [],
   "source": []
  }
 ],
 "metadata": {
  "kernelspec": {
   "display_name": "Python 3 (ipykernel)",
   "language": "python",
   "name": "python3"
  },
  "language_info": {
   "codemirror_mode": {
    "name": "ipython",
    "version": 3
   },
   "file_extension": ".py",
   "mimetype": "text/x-python",
   "name": "python",
   "nbconvert_exporter": "python",
   "pygments_lexer": "ipython3",
   "version": "3.11.12"
  }
 },
 "nbformat": 4,
 "nbformat_minor": 5
}
